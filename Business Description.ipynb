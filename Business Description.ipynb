{
 "cells": [
  {
   "cell_type": "markdown",
   "metadata": {},
   "source": [
    "### Business Problem:\n",
    "\n",
    "For every traveller finding all the tourist attractions in a city, finding all the \n",
    "relevant details about the tourist places a big problem these days. Getting all these \n",
    "details in one single place is like a magic.\n",
    "\n",
    "### Solution:\n",
    "\n",
    "To create an app that has all the details about the tourist places their reviews would bring everything on a finger tip.\n",
    "\n",
    "### Data:\n",
    "\n",
    "To extract data regarding venues, places, ratings etc Frousquare API can be used while Geopy can be used for obtaining \n",
    "location data.Clustering will be performed based on different areas to obtain local and global optima. Folium can be \n",
    "used to visualise areas in maps.The specific dataset used will be Bangalore City attractive places dataset from Kaggle.com"
   ]
  },
  {
   "cell_type": "code",
   "execution_count": null,
   "metadata": {},
   "outputs": [],
   "source": []
  }
 ],
 "metadata": {
  "kernelspec": {
   "display_name": "Python 3",
   "language": "python",
   "name": "python3"
  },
  "language_info": {
   "codemirror_mode": {
    "name": "ipython",
    "version": 3
   },
   "file_extension": ".py",
   "mimetype": "text/x-python",
   "name": "python",
   "nbconvert_exporter": "python",
   "pygments_lexer": "ipython3",
   "version": "3.6.4"
  }
 },
 "nbformat": 4,
 "nbformat_minor": 2
}
