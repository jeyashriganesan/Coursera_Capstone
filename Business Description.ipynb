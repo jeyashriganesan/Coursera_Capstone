{
 "cells": [
  {
   "cell_type": "markdown",
   "metadata": {},
   "source": [
    "### Business Problem:\n",
    "\n",
    "I used to travel to a lot many places as a solo traveller. It has always been a cubesome task to choose a hotel at an optimal \n",
    "location which is close to all/maximum tourist places. By building an app, it would be easier for any traveller to book a hotel\n",
    "& cover maximum tourist spots.\n",
    "\n",
    "### Solution:\n",
    "\n",
    "I am planning to build an app which based on the travellers location or the place he is gonna stay will suggest all tourist \n",
    "places, hotels, restaurants etc. available around the town. This is done using Foursquare API. This app will give an optimal \n",
    "area & give the list of hotels, its ratings & reviews for the user to choose from.\n",
    "\n",
    "### Data:\n",
    "\n",
    "Foursquare API data will be used extract venues, places, ratings etc & geopy coder to obtain location data. Clustering based \n",
    "on different areas will be used to obtain local & global optima. Folium library is used to visualize the areas in the map. For \n",
    "this project Bangalore city in India's data will be used."
   ]
  },
  {
   "cell_type": "code",
   "execution_count": null,
   "metadata": {},
   "outputs": [],
   "source": []
  }
 ],
 "metadata": {
  "kernelspec": {
   "display_name": "Python 3",
   "language": "python",
   "name": "python3"
  },
  "language_info": {
   "codemirror_mode": {
    "name": "ipython",
    "version": 3
   },
   "file_extension": ".py",
   "mimetype": "text/x-python",
   "name": "python",
   "nbconvert_exporter": "python",
   "pygments_lexer": "ipython3",
   "version": "3.6.4"
  }
 },
 "nbformat": 4,
 "nbformat_minor": 2
}
